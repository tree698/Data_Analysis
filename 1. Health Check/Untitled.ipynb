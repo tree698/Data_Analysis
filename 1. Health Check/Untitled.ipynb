{
 "cells": [
  {
   "cell_type": "markdown",
   "metadata": {},
   "source": [
    "# 음주 여부에 따라 건강검진 수치 차이가 있을까?"
   ]
  },
  {
   "cell_type": "markdown",
   "metadata": {},
   "source": [
    "# 신장과 허리둘레의 크기는 체중과 상관관계가 있을까?"
   ]
  },
  {
   "cell_type": "markdown",
   "metadata": {},
   "source": [
    "# 라이브러리 로드"
   ]
  },
  {
   "cell_type": "code",
   "execution_count": 1,
   "metadata": {
    "ExecuteTime": {
     "end_time": "2021-02-27T06:16:18.270006Z",
     "start_time": "2021-02-27T06:16:08.040355Z"
    }
   },
   "outputs": [],
   "source": [
    "# 분석에 사용할 pandas, 수치계산에 사용할 numpy, 시각화에 사용할 seaborn을 불러 옵니다\n",
    "# 구 버전의 주피터 노트북에서는 %matplotlib inline 설정이 되어야 노트북 안에서 그래프를 시각화 합니다. \n",
    "\n",
    "import pandas as pd\n",
    "import numpy as np\n",
    "import seaborn as sns\n",
    "import matplotlib.pyplot as plt"
   ]
  },
  {
   "cell_type": "markdown",
   "metadata": {},
   "source": [
    "# 한글 폰트 설정"
   ]
  },
  {
   "cell_type": "code",
   "execution_count": 3,
   "metadata": {
    "ExecuteTime": {
     "end_time": "2021-02-26T13:09:34.160127Z",
     "start_time": "2021-02-26T13:09:34.148188Z"
    }
   },
   "outputs": [],
   "source": [
    "# Google Colab  사용시 아래 주석을 풀고 폰트 설정을 합니다.\n",
    "# 로컬 아나콘다 사용시에는 그대로 주석처리 해놓으시면 됩니다. \n",
    "# 나눔고딕 설치\n",
    "# 이 코드를 사용시 아래에 있는 폰트를 로드할 경우 Colab에서는 오류가 발생하니 아래에 있는 폰트 설정을 꼭 주석처리 할것\n",
    "# !apt -qq -y install fonts-nanum > /dev/null\n",
    "\n",
    "# import matplotlib.font.manager as fm\n",
    "\n",
    "# fontpath = '/user/share/fonts/truetype/nanum/NanumBarunGothic.ttf'\n",
    "# font = fm.FontProperties(fname=fontpath, size=9)\n",
    "# fm._rebuild()\n",
    "\n",
    "# colab의 한글 폰트 설정\n",
    "# plt.rc('font', family='NanumGothic')\n",
    "# 마이너스 폰트 깨지는 문제에 대한 대처\n",
    "# plt.rc(\"axes\", unicode_minus=False)"
   ]
  },
  {
   "cell_type": "code",
   "execution_count": 2,
   "metadata": {
    "ExecuteTime": {
     "end_time": "2021-02-27T06:16:33.048097Z",
     "start_time": "2021-02-27T06:16:33.035134Z"
    }
   },
   "outputs": [],
   "source": [
    "# 한글폰트를 설정해 주지 않으면 그래프 상에서 한글이 깨져 보입니다\n",
    "# 한글이 출력될수 있도록 폰트 설정을 해줍니다\n",
    "# 운영체제별 설명을 위해 로드 합니다\n",
    "\n",
    "import os\n",
    "if os.name == 'posix':\n",
    "    plt.rc(\"font\", family=\"AppleGothic\")\n",
    "else:\n",
    "    plt.rc(\"font\", family=\"Malgun Gothic\")\n",
    "    \n",
    "# 마이너스 폰트 깨지는 문제에 대한 대처\n",
    "plt.rc(\"axes\", unicode_minus=False)"
   ]
  },
  {
   "cell_type": "code",
   "execution_count": 3,
   "metadata": {
    "ExecuteTime": {
     "end_time": "2021-02-27T06:16:36.100318Z",
     "start_time": "2021-02-27T06:16:36.075229Z"
    }
   },
   "outputs": [],
   "source": [
    "# 레티나 설정을 해주면 글씨가 좀 더 선명하게 보입니다\n",
    "# 폰트의 주변이 흐릿하게 보이는 것을 방지합니다\n",
    "\n",
    "%config InlineBackend.figure_format = 'retina'"
   ]
  },
  {
   "cell_type": "markdown",
   "metadata": {},
   "source": [
    "# 데이터 불러오기"
   ]
  },
  {
   "cell_type": "code",
   "execution_count": 4,
   "metadata": {
    "ExecuteTime": {
     "end_time": "2021-02-27T06:16:41.194961Z",
     "start_time": "2021-02-27T06:16:39.963229Z"
    }
   },
   "outputs": [
    {
     "data": {
      "text/plain": [
       "(389412, 34)"
      ]
     },
     "execution_count": 4,
     "metadata": {},
     "output_type": "execute_result"
    }
   ],
   "source": [
    "# 다운로드 받은 파일을 판다스의 read_csv를 통해 읽어 옵니다\n",
    "# 파일을 읽어 온 후 shape로 행과 열의 수를 출력합니다.\n",
    "\n",
    "df = pd.read_csv(\"건강검진정보.csv\", encoding=\"cp949\")\n",
    "df.shape"
   ]
  },
  {
   "cell_type": "code",
   "execution_count": 9,
   "metadata": {
    "ExecuteTime": {
     "end_time": "2021-02-27T06:22:41.064339Z",
     "start_time": "2021-02-27T06:22:41.013287Z"
    }
   },
   "outputs": [
    {
     "data": {
      "text/html": [
       "<div>\n",
       "<style scoped>\n",
       "    .dataframe tbody tr th:only-of-type {\n",
       "        vertical-align: middle;\n",
       "    }\n",
       "\n",
       "    .dataframe tbody tr th {\n",
       "        vertical-align: top;\n",
       "    }\n",
       "\n",
       "    .dataframe thead th {\n",
       "        text-align: right;\n",
       "    }\n",
       "</style>\n",
       "<table border=\"1\" class=\"dataframe\">\n",
       "  <thead>\n",
       "    <tr style=\"text-align: right;\">\n",
       "      <th></th>\n",
       "      <th>기준년도</th>\n",
       "      <th>가입자 일련번호</th>\n",
       "      <th>시도코드</th>\n",
       "      <th>성별코드</th>\n",
       "      <th>연령대 코드(5세단위)</th>\n",
       "      <th>신장(5Cm단위)</th>\n",
       "      <th>체중(5Kg 단위)</th>\n",
       "      <th>허리둘레</th>\n",
       "      <th>시력(좌)</th>\n",
       "      <th>시력(우)</th>\n",
       "      <th>...</th>\n",
       "      <th>감마 지티피</th>\n",
       "      <th>흡연상태</th>\n",
       "      <th>음주여부</th>\n",
       "      <th>구강검진 수검여부</th>\n",
       "      <th>치아우식증유무</th>\n",
       "      <th>결손치 유무</th>\n",
       "      <th>치아마모증유무</th>\n",
       "      <th>제3대구치(사랑니) 이상</th>\n",
       "      <th>치석</th>\n",
       "      <th>데이터 공개일자</th>\n",
       "    </tr>\n",
       "  </thead>\n",
       "  <tbody>\n",
       "    <tr>\n",
       "      <th>51413</th>\n",
       "      <td>2019</td>\n",
       "      <td>662002</td>\n",
       "      <td>48</td>\n",
       "      <td>1</td>\n",
       "      <td>8</td>\n",
       "      <td>170</td>\n",
       "      <td>75</td>\n",
       "      <td>83.5</td>\n",
       "      <td>1.2</td>\n",
       "      <td>1.5</td>\n",
       "      <td>...</td>\n",
       "      <td>26.0</td>\n",
       "      <td>2.0</td>\n",
       "      <td>1.0</td>\n",
       "      <td>1</td>\n",
       "      <td>0.0</td>\n",
       "      <td>미시행</td>\n",
       "      <td>미시행</td>\n",
       "      <td>미시행</td>\n",
       "      <td>0.0</td>\n",
       "      <td>20191231</td>\n",
       "    </tr>\n",
       "  </tbody>\n",
       "</table>\n",
       "<p>1 rows × 34 columns</p>\n",
       "</div>"
      ],
      "text/plain": [
       "       기준년도  가입자 일련번호  시도코드  성별코드  연령대 코드(5세단위)  신장(5Cm단위)  체중(5Kg 단위)  허리둘레  \\\n",
       "51413  2019    662002    48     1             8        170          75  83.5   \n",
       "\n",
       "       시력(좌)  시력(우)  ...  감마 지티피  흡연상태  음주여부  구강검진 수검여부  치아우식증유무  결손치 유무  \\\n",
       "51413    1.2    1.5  ...    26.0   2.0   1.0          1      0.0     미시행   \n",
       "\n",
       "       치아마모증유무  제3대구치(사랑니) 이상   치석  데이터 공개일자  \n",
       "51413      미시행            미시행  0.0  20191231  \n",
       "\n",
       "[1 rows x 34 columns]"
      ]
     },
     "execution_count": 9,
     "metadata": {},
     "output_type": "execute_result"
    }
   ],
   "source": [
    "# sample, head, tail로 데이터 미리 보기를 합니다\n",
    "# smaple 은 랜덤하게 하나의 샘플만 가져 온다 \n",
    "\n",
    "df.sample()"
   ]
  },
  {
   "cell_type": "code",
   "execution_count": 7,
   "metadata": {
    "ExecuteTime": {
     "end_time": "2021-02-27T06:18:15.160015Z",
     "start_time": "2021-02-27T06:18:15.107158Z"
    }
   },
   "outputs": [
    {
     "data": {
      "text/html": [
       "<div>\n",
       "<style scoped>\n",
       "    .dataframe tbody tr th:only-of-type {\n",
       "        vertical-align: middle;\n",
       "    }\n",
       "\n",
       "    .dataframe tbody tr th {\n",
       "        vertical-align: top;\n",
       "    }\n",
       "\n",
       "    .dataframe thead th {\n",
       "        text-align: right;\n",
       "    }\n",
       "</style>\n",
       "<table border=\"1\" class=\"dataframe\">\n",
       "  <thead>\n",
       "    <tr style=\"text-align: right;\">\n",
       "      <th></th>\n",
       "      <th>기준년도</th>\n",
       "      <th>가입자 일련번호</th>\n",
       "      <th>시도코드</th>\n",
       "      <th>성별코드</th>\n",
       "      <th>연령대 코드(5세단위)</th>\n",
       "      <th>신장(5Cm단위)</th>\n",
       "      <th>체중(5Kg 단위)</th>\n",
       "      <th>허리둘레</th>\n",
       "      <th>시력(좌)</th>\n",
       "      <th>시력(우)</th>\n",
       "      <th>...</th>\n",
       "      <th>감마 지티피</th>\n",
       "      <th>흡연상태</th>\n",
       "      <th>음주여부</th>\n",
       "      <th>구강검진 수검여부</th>\n",
       "      <th>치아우식증유무</th>\n",
       "      <th>결손치 유무</th>\n",
       "      <th>치아마모증유무</th>\n",
       "      <th>제3대구치(사랑니) 이상</th>\n",
       "      <th>치석</th>\n",
       "      <th>데이터 공개일자</th>\n",
       "    </tr>\n",
       "  </thead>\n",
       "  <tbody>\n",
       "    <tr>\n",
       "      <th>0</th>\n",
       "      <td>2019</td>\n",
       "      <td>610589</td>\n",
       "      <td>11</td>\n",
       "      <td>2</td>\n",
       "      <td>11</td>\n",
       "      <td>150</td>\n",
       "      <td>50</td>\n",
       "      <td>68.0</td>\n",
       "      <td>1.0</td>\n",
       "      <td>1.0</td>\n",
       "      <td>...</td>\n",
       "      <td>29.0</td>\n",
       "      <td>1.0</td>\n",
       "      <td>1.0</td>\n",
       "      <td>0</td>\n",
       "      <td>NaN</td>\n",
       "      <td>미시행</td>\n",
       "      <td>미시행</td>\n",
       "      <td>미시행</td>\n",
       "      <td>NaN</td>\n",
       "      <td>20191231</td>\n",
       "    </tr>\n",
       "    <tr>\n",
       "      <th>1</th>\n",
       "      <td>2019</td>\n",
       "      <td>610590</td>\n",
       "      <td>42</td>\n",
       "      <td>1</td>\n",
       "      <td>9</td>\n",
       "      <td>175</td>\n",
       "      <td>85</td>\n",
       "      <td>90.0</td>\n",
       "      <td>1.0</td>\n",
       "      <td>1.2</td>\n",
       "      <td>...</td>\n",
       "      <td>35.0</td>\n",
       "      <td>2.0</td>\n",
       "      <td>1.0</td>\n",
       "      <td>1</td>\n",
       "      <td>0.0</td>\n",
       "      <td>미시행</td>\n",
       "      <td>미시행</td>\n",
       "      <td>미시행</td>\n",
       "      <td>1.0</td>\n",
       "      <td>20191231</td>\n",
       "    </tr>\n",
       "    <tr>\n",
       "      <th>2</th>\n",
       "      <td>2019</td>\n",
       "      <td>610591</td>\n",
       "      <td>31</td>\n",
       "      <td>1</td>\n",
       "      <td>12</td>\n",
       "      <td>155</td>\n",
       "      <td>60</td>\n",
       "      <td>82.5</td>\n",
       "      <td>0.5</td>\n",
       "      <td>0.5</td>\n",
       "      <td>...</td>\n",
       "      <td>43.0</td>\n",
       "      <td>2.0</td>\n",
       "      <td>1.0</td>\n",
       "      <td>1</td>\n",
       "      <td>0.0</td>\n",
       "      <td>미시행</td>\n",
       "      <td>미시행</td>\n",
       "      <td>미시행</td>\n",
       "      <td>0.0</td>\n",
       "      <td>20191231</td>\n",
       "    </tr>\n",
       "    <tr>\n",
       "      <th>3</th>\n",
       "      <td>2019</td>\n",
       "      <td>610592</td>\n",
       "      <td>26</td>\n",
       "      <td>2</td>\n",
       "      <td>14</td>\n",
       "      <td>155</td>\n",
       "      <td>50</td>\n",
       "      <td>71.0</td>\n",
       "      <td>0.7</td>\n",
       "      <td>0.7</td>\n",
       "      <td>...</td>\n",
       "      <td>11.0</td>\n",
       "      <td>1.0</td>\n",
       "      <td>NaN</td>\n",
       "      <td>0</td>\n",
       "      <td>NaN</td>\n",
       "      <td>미시행</td>\n",
       "      <td>미시행</td>\n",
       "      <td>미시행</td>\n",
       "      <td>NaN</td>\n",
       "      <td>20191231</td>\n",
       "    </tr>\n",
       "    <tr>\n",
       "      <th>4</th>\n",
       "      <td>2019</td>\n",
       "      <td>610593</td>\n",
       "      <td>26</td>\n",
       "      <td>2</td>\n",
       "      <td>14</td>\n",
       "      <td>155</td>\n",
       "      <td>50</td>\n",
       "      <td>76.0</td>\n",
       "      <td>0.9</td>\n",
       "      <td>0.8</td>\n",
       "      <td>...</td>\n",
       "      <td>9.0</td>\n",
       "      <td>1.0</td>\n",
       "      <td>NaN</td>\n",
       "      <td>0</td>\n",
       "      <td>NaN</td>\n",
       "      <td>미시행</td>\n",
       "      <td>미시행</td>\n",
       "      <td>미시행</td>\n",
       "      <td>NaN</td>\n",
       "      <td>20191231</td>\n",
       "    </tr>\n",
       "  </tbody>\n",
       "</table>\n",
       "<p>5 rows × 34 columns</p>\n",
       "</div>"
      ],
      "text/plain": [
       "   기준년도  가입자 일련번호  시도코드  성별코드  연령대 코드(5세단위)  신장(5Cm단위)  체중(5Kg 단위)  허리둘레  \\\n",
       "0  2019    610589    11     2            11        150          50  68.0   \n",
       "1  2019    610590    42     1             9        175          85  90.0   \n",
       "2  2019    610591    31     1            12        155          60  82.5   \n",
       "3  2019    610592    26     2            14        155          50  71.0   \n",
       "4  2019    610593    26     2            14        155          50  76.0   \n",
       "\n",
       "   시력(좌)  시력(우)  ...  감마 지티피  흡연상태  음주여부  구강검진 수검여부  치아우식증유무  결손치 유무  치아마모증유무  \\\n",
       "0    1.0    1.0  ...    29.0   1.0   1.0          0      NaN     미시행      미시행   \n",
       "1    1.0    1.2  ...    35.0   2.0   1.0          1      0.0     미시행      미시행   \n",
       "2    0.5    0.5  ...    43.0   2.0   1.0          1      0.0     미시행      미시행   \n",
       "3    0.7    0.7  ...    11.0   1.0   NaN          0      NaN     미시행      미시행   \n",
       "4    0.9    0.8  ...     9.0   1.0   NaN          0      NaN     미시행      미시행   \n",
       "\n",
       "   제3대구치(사랑니) 이상   치석  데이터 공개일자  \n",
       "0            미시행  NaN  20191231  \n",
       "1            미시행  1.0  20191231  \n",
       "2            미시행  0.0  20191231  \n",
       "3            미시행  NaN  20191231  \n",
       "4            미시행  NaN  20191231  \n",
       "\n",
       "[5 rows x 34 columns]"
      ]
     },
     "execution_count": 7,
     "metadata": {},
     "output_type": "execute_result"
    }
   ],
   "source": [
    "df.head()"
   ]
  },
  {
   "cell_type": "markdown",
   "metadata": {},
   "source": [
    "# 기본정보 보기"
   ]
  },
  {
   "cell_type": "code",
   "execution_count": 10,
   "metadata": {
    "ExecuteTime": {
     "end_time": "2021-02-27T06:23:56.129032Z",
     "start_time": "2021-02-27T06:23:56.043261Z"
    }
   },
   "outputs": [
    {
     "name": "stdout",
     "output_type": "stream",
     "text": [
      "<class 'pandas.core.frame.DataFrame'>\n",
      "RangeIndex: 389412 entries, 0 to 389411\n",
      "Data columns (total 34 columns):\n",
      " #   Column         Non-Null Count   Dtype  \n",
      "---  ------         --------------   -----  \n",
      " 0   기준년도           389412 non-null  int64  \n",
      " 1   가입자 일련번호       389412 non-null  int64  \n",
      " 2   시도코드           389412 non-null  int64  \n",
      " 3   성별코드           389412 non-null  int64  \n",
      " 4   연령대 코드(5세단위)   389412 non-null  int64  \n",
      " 5   신장(5Cm단위)      389412 non-null  int64  \n",
      " 6   체중(5Kg 단위)     389412 non-null  int64  \n",
      " 7   허리둘레           389245 non-null  float64\n",
      " 8   시력(좌)          389330 non-null  float64\n",
      " 9   시력(우)          389332 non-null  float64\n",
      " 10  청력(좌)          389342 non-null  float64\n",
      " 11  청력(우)          389343 non-null  float64\n",
      " 12  수축기 혈압         387363 non-null  float64\n",
      " 13  이완기 혈압         387362 non-null  float64\n",
      " 14  식전혈당(공복혈당)     387334 non-null  float64\n",
      " 15  총 콜레스테롤        129983 non-null  float64\n",
      " 16  트리글리세라이드       129982 non-null  float64\n",
      " 17  HDL 콜레스테롤      129981 non-null  float64\n",
      " 18  LDL 콜레스테롤      127472 non-null  float64\n",
      " 19  혈색소            387332 non-null  float64\n",
      " 20  요단백            385489 non-null  float64\n",
      " 21  혈청크레아티닌        387334 non-null  float64\n",
      " 22  (혈청지오티)AST     387335 non-null  float64\n",
      " 23  (혈청지오티)ALT     387334 non-null  float64\n",
      " 24  감마 지티피         387334 non-null  float64\n",
      " 25  흡연상태           389340 non-null  float64\n",
      " 26  음주여부           251177 non-null  float64\n",
      " 27  구강검진 수검여부      389412 non-null  int64  \n",
      " 28  치아우식증유무        155126 non-null  float64\n",
      " 29  결손치 유무         389412 non-null  object \n",
      " 30  치아마모증유무        389412 non-null  object \n",
      " 31  제3대구치(사랑니) 이상  389412 non-null  object \n",
      " 32  치석             155126 non-null  float64\n",
      " 33  데이터 공개일자       389412 non-null  int64  \n",
      "dtypes: float64(22), int64(9), object(3)\n",
      "memory usage: 101.0+ MB\n"
     ]
    }
   ],
   "source": [
    "# infor를 통해 데이터의 크기, 형식, 메모리 사용량 등을 봅니다\n",
    "\n",
    "df.info()"
   ]
  },
  {
   "cell_type": "code",
   "execution_count": 14,
   "metadata": {
    "ExecuteTime": {
     "end_time": "2021-02-27T06:28:40.090516Z",
     "start_time": "2021-02-27T06:28:40.083536Z"
    }
   },
   "outputs": [
    {
     "data": {
      "text/plain": [
       "Index(['기준년도', '가입자 일련번호', '시도코드', '성별코드', '연령대 코드(5세단위)', '신장(5Cm단위)',\n",
       "       '체중(5Kg 단위)', '허리둘레', '시력(좌)', '시력(우)', '청력(좌)', '청력(우)', '수축기 혈압',\n",
       "       '이완기 혈압', '식전혈당(공복혈당)', '총 콜레스테롤', '트리글리세라이드', 'HDL 콜레스테롤', 'LDL 콜레스테롤',\n",
       "       '혈색소', '요단백', '혈청크레아티닌', '(혈청지오티)AST', '(혈청지오티)ALT', '감마 지티피', '흡연상태',\n",
       "       '음주여부', '구강검진 수검여부', '치아우식증유무', '결손치 유무', '치아마모증유무', '제3대구치(사랑니) 이상',\n",
       "       '치석', '데이터 공개일자'],\n",
       "      dtype='object')"
      ]
     },
     "execution_count": 14,
     "metadata": {},
     "output_type": "execute_result"
    }
   ],
   "source": [
    "# 컬럼의 수가 많습니다. 컬럼만 따로 출력합니다\n",
    "\n",
    "df.columns"
   ]
  },
  {
   "cell_type": "code",
   "execution_count": 16,
   "metadata": {
    "ExecuteTime": {
     "end_time": "2021-02-27T06:29:26.857240Z",
     "start_time": "2021-02-27T06:29:26.843252Z"
    }
   },
   "outputs": [
    {
     "data": {
      "text/plain": [
       "기준년도               int64\n",
       "가입자 일련번호           int64\n",
       "시도코드               int64\n",
       "성별코드               int64\n",
       "연령대 코드(5세단위)       int64\n",
       "신장(5Cm단위)          int64\n",
       "체중(5Kg 단위)         int64\n",
       "허리둘레             float64\n",
       "시력(좌)            float64\n",
       "시력(우)            float64\n",
       "청력(좌)            float64\n",
       "청력(우)            float64\n",
       "수축기 혈압           float64\n",
       "이완기 혈압           float64\n",
       "식전혈당(공복혈당)       float64\n",
       "총 콜레스테롤          float64\n",
       "트리글리세라이드         float64\n",
       "HDL 콜레스테롤        float64\n",
       "LDL 콜레스테롤        float64\n",
       "혈색소              float64\n",
       "요단백              float64\n",
       "혈청크레아티닌          float64\n",
       "(혈청지오티)AST       float64\n",
       "(혈청지오티)ALT       float64\n",
       "감마 지티피           float64\n",
       "흡연상태             float64\n",
       "음주여부             float64\n",
       "구강검진 수검여부          int64\n",
       "치아우식증유무          float64\n",
       "결손치 유무            object\n",
       "치아마모증유무           object\n",
       "제3대구치(사랑니) 이상     object\n",
       "치석               float64\n",
       "데이터 공개일자           int64\n",
       "dtype: object"
      ]
     },
     "execution_count": 16,
     "metadata": {},
     "output_type": "execute_result"
    }
   ],
   "source": [
    "# dtypes 를 통해 데이터 형식만 출력합니다. \n",
    "\n",
    "df.dtypes"
   ]
  },
  {
   "cell_type": "markdown",
   "metadata": {},
   "source": [
    "# 결측치 보기"
   ]
  },
  {
   "cell_type": "code",
   "execution_count": 13,
   "metadata": {
    "ExecuteTime": {
     "end_time": "2021-02-27T06:25:15.307255Z",
     "start_time": "2021-02-27T06:25:15.302239Z"
    }
   },
   "outputs": [],
   "source": [
    "# isnull 을 통해 결측치를 bool 값으로 표시하고 sum을 하면 컬럼마다 결측치 수를 세어줍니다"
   ]
  },
  {
   "cell_type": "code",
   "execution_count": 17,
   "metadata": {
    "ExecuteTime": {
     "end_time": "2021-02-27T06:31:37.075188Z",
     "start_time": "2021-02-27T06:31:37.062223Z"
    }
   },
   "outputs": [],
   "source": [
    "# isna 로도 결측치 여부를 확인하고 sum을 통해 결측치 수를 집계할 수 있습니다"
   ]
  },
  {
   "cell_type": "code",
   "execution_count": 18,
   "metadata": {
    "ExecuteTime": {
     "end_time": "2021-02-27T06:31:52.209231Z",
     "start_time": "2021-02-27T06:31:52.195241Z"
    }
   },
   "outputs": [],
   "source": [
    "# 판다스에 내장된 plot을 통해 시각화를 합니다. "
   ]
  },
  {
   "cell_type": "markdown",
   "metadata": {},
   "source": [
    "# 일부 데이터 요약하기"
   ]
  },
  {
   "cell_type": "code",
   "execution_count": 19,
   "metadata": {
    "ExecuteTime": {
     "end_time": "2021-02-27T06:32:50.783445Z",
     "start_time": "2021-02-27T06:32:50.774497Z"
    }
   },
   "outputs": [],
   "source": [
    "# 여러 컬럼을 가져옵니다\n",
    "# \"(혈청지오티)ALT\", \"(혈정지오티)AST\" 를 가져와 미리보기 합니다"
   ]
  },
  {
   "cell_type": "code",
   "execution_count": 20,
   "metadata": {
    "ExecuteTime": {
     "end_time": "2021-02-27T06:33:17.824778Z",
     "start_time": "2021-02-27T06:33:17.818766Z"
    }
   },
   "outputs": [],
   "source": [
    "# \"(혈정지오티)ALT\", \"(혈정지오티)AST\"를 요약합니다. "
   ]
  },
  {
   "cell_type": "code",
   "execution_count": null,
   "metadata": {},
   "outputs": [],
   "source": []
  }
 ],
 "metadata": {
  "kernelspec": {
   "display_name": "Python 3",
   "language": "python",
   "name": "python3"
  },
  "language_info": {
   "codemirror_mode": {
    "name": "ipython",
    "version": 3
   },
   "file_extension": ".py",
   "mimetype": "text/x-python",
   "name": "python",
   "nbconvert_exporter": "python",
   "pygments_lexer": "ipython3",
   "version": "3.8.5"
  },
  "toc": {
   "base_numbering": 1,
   "nav_menu": {},
   "number_sections": true,
   "sideBar": true,
   "skip_h1_title": false,
   "title_cell": "Table of Contents",
   "title_sidebar": "Contents",
   "toc_cell": false,
   "toc_position": {
    "height": "calc(100% - 180px)",
    "left": "10px",
    "top": "150px",
    "width": "241.475px"
   },
   "toc_section_display": true,
   "toc_window_display": true
  }
 },
 "nbformat": 4,
 "nbformat_minor": 4
}
